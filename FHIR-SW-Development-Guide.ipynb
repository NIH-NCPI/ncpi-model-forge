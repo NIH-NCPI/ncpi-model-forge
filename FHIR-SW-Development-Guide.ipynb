{
 "cells": [
  {
   "cell_type": "markdown",
   "metadata": {},
   "source": [
    "# 🔥 NCPI FHIR Software Development Guide"
   ]
  },
  {
   "cell_type": "markdown",
   "metadata": {},
   "source": [
    "# Overview"
   ]
  },
  {
   "cell_type": "markdown",
   "metadata": {},
   "source": [
    "## Goal\n",
    "The overall goal of this guide is to walkthrough the FHIR modeling software development lifecycle using a practical example and NCPI tooling. \n",
    "\n",
    "## Icons in this Guide\n",
    "\n",
    "📘 A link to a useful external reference related to the section the icon appears in\n",
    "\n",
    "⚡️ A key takeaway for the section that this icon appears in\n",
    "\n",
    "🖐 A hands-on section where you will code something or interact with the server\n",
    "\n",
    "## Objectives\n",
    "Developers will learn: \n",
    "\n",
    "- The software development life cycle for the NCPI Project Forge FHIR model\n",
    "- How to extend the existing [NCPI Patient model](https://github.com/ncpi-fhir/ncpi-model-forge/blob/master/site_root/input/resources/profiles/StructureDefinition-ncpi-patient.json) with a new\n",
    "  attribute to capture the Patient's species.\n",
    "- How to use the existing NCPI tooling for development\n",
    "- Overview of the NCPI Project Forge infrastructure (e.g. FHIR servers, FHIR data dashboard, etc.)\n",
    "\n",
    "## Target Audience\n",
    "The target audience for this guide is software developers participating in the [NCPI Project Forge](https://github.com/ncpi-fhir/ncpi-project-forge) effort in which a minimal FHIR model is being developed for learning purposes. \n",
    "\n",
    "⚡️ **It is expected that developers already understand what the FHIR specification is and some key modeling concepts in FHIR (e.g. StructureDefinition, ImplementationGuide, etc). You can learn these key concepts by working through the [FHIR 101 Jupyter Notebook](https://github.com/ncpi-fhir/fhir-101).**"
   ]
  },
  {
   "cell_type": "markdown",
   "metadata": {},
   "source": [
    "# Software Development Life Cycle"
   ]
  },
  {
   "cell_type": "markdown",
   "metadata": {},
   "source": [
    "The software development life cycle (SDLC) is a process for transforming the needs of an end user into high quality, reliable software that implements the needs of the end user. \n",
    "\n",
    "Before describing the SDLC specific to the NCPI Project Forge FHIR model, it  may be useful to review the general SDLC for NCPI (based on CHOP D3b SDLC) projects. There will be some differences in the development tooling and testing frameworks among projects, but the phases below give a good general overview of the NCPI SDLC.\n",
    "\n",
    "**The [Tutorial](#Tutorial) section will give you a more practical understanding of the SDLC phases specific to NCPI FHIR modeling. Skip this section if you want a more hands-on approach.**   \n",
    "\n",
    "## 💻 Develop\n",
    "\n",
    "1. Translate requirements to software implementation tasks for developers\n",
    "2. Implement code\n",
    "3. Implement and run unit tests in local dev environment\n",
    "4. Commit code to local feature branch\n",
    "5. Push code to remote feature branch on Github\n",
    "6. Create a Pull Request (PR) on Github\n",
    "7. Team reviews code and submits feedback in Pull Request\n",
    "8. Merge Pull Request to merge feature branch into master branch\n",
    "\n",
    "### Version Control\n",
    "NCPI projects use [git](https://git-scm.com/) and [GitHub](https://github.com/features) for version control and collaborative software development. \n",
    "\n",
    "### Branching Strategy\n",
    "NCPI projects use the 📘 [Gitflow Feature Branch Strategy](https://www.atlassian.com/git/tutorials/comparing-workflows/feature-branch-workflow) for collaborative development. You can read the details about this branching strategy at the provided link, but here are the important concepts:\n",
    "\n",
    "- The stable code will be on the master branch. Feature branches come off of master\n",
    "- Each feature branch encapsulates functionality distinct from other feature branches\n",
    "- No more than 1 developer should work on a feature branch\n",
    "- Owner of the feature branch should decide when to merge into the master branch (after PR approval)\n",
    "\n",
    "### Pull Requests\n",
    "\n",
    "- At least one other developer (preferably a repository admin) must approve the Pull Request before it can be merged into the master branch by the feature owner.\n",
    "- The code in the feature branch must pass all of the tests run in continuous integration\n",
    "\n",
    "## 👷 Continuous Integration (CI)\n",
    "\n",
    "Continuous integration enables developers to integrate new code into a shared repository such as GitHub throughout the day. CI runs in a cloud-based environment and is triggered when a developer pushes their code to Github. \n",
    "\n",
    "1. Check-out/pull down repository's code from Github \n",
    "2. Build stage - build runtime environment and install dependencies needed to run code\n",
    "3. Test stage - run unit tests\n",
    "4. Test stage - run integration test\n",
    "\n",
    "### Benefits\n",
    "\n",
    "- Build verification - code is built in a fresh environment for every code change\n",
    "- Automating testing - quicker detection and resolution of bugs\n",
    "- Standard, repeatable build and test process\n",
    "\n",
    "Sometimes code and tests may run successfully on one developer's machine but fail on another due to a difference in runtime environment or a missing dependency in the source code configuration. CI helps catch these sorts of issues quickly.\n",
    "\n",
    "### Platform\n",
    "\n",
    "NCPI currently uses the [CircleCI](https://circleci.com/) cloud-based CI platform because it is free and fairly easy to setup for any project. However, GitHub has recently launched their own CI platform, [GitHub Actions](https://help.github.com/en/actions) which may be considered for the future since it requires less setup than CircleCI. \n",
    "\n",
    "\n",
    "## 🐳 Continuous Deployment (CD)\n",
    "If the software being developed is something (e.g. web service) that requires infrastructure (e.g. database, web servers, networking, etc) to run then CD will also run after CI completes. The purpose of CD is similiar to that of CI. Just as code must be built and tested, the infrastructure on which the code will run must also be deployed and tested. \n",
    "\n",
    "1. Check-out/pull down the code that builds the infrastructure\n",
    "2. Tear down existing infrastructure\n",
    "3. Run the code to deploy the infrastructure\n",
    "4. Run post-deploy tests to ensure successful deployment\n",
    "\n",
    "### Deployments\n",
    "NCPI projects (e.g. FHIR server, FHIR data dashboard) which require infrastructure are deployed into [Amazon Web Services (AWS)](https://aws.amazon.com/). \n",
    "\n",
    "When software is deployed, it will be deployed into 1 of 3 environments: `Development`, `Quality Assessment`, or `Production`. Each environment has its own Virtual Private Cloud (VPC), making services and apps within any one environment unreachable from another.\n",
    "\n",
    "#### Development\n",
    "\n",
    "- Named `dev` \n",
    "- Provide an environment primarily for testing infrastructure deployments\n",
    "- Software in feature branches are deployed into `dev`\n",
    "\n",
    "#### Quality Assessment\n",
    "\n",
    "- Named `qa`\n",
    "- Provide a stable environment primarily for integration testing between various services and applications\n",
    "- Software on the master branch is deployed into `qa`\n",
    "\n",
    "#### Production\n",
    "\n",
    "- Named `prd`\n",
    "- Provides a stable environment with the end-user facing services and apps\n",
    "- Software on the master branch at particular point marked by the release tag is deployed into `prd`\n",
    "\n",
    "### Platform\n",
    "NCPI projects use a privately hosted [Jenkins](https://www.jenkins.io/) instance on AWS to execute the CD pipeline for infrastructure deployments.\n",
    "\n",
    "## 📦 Release\n",
    "Physically, a release is a package of source code with a version which identifies a logical set of content having specific compatibility characteristics. Releases use 📘 [Semantic Versioning](https://semver.org/) to version the code in the release. The release process may also involve deploying software to production (if infrastructure is required).\n",
    "\n",
    "The general release process for NCPI projects is detailed on the [D3b Release Maker](https://github.com/d3b-center/d3b-release-maker) README. \n",
    "\n",
    "However, the important concepts in the release process are:\n",
    "\n",
    "- The master branch is tagged with the new release version\n",
    "- A GitHub Release is created on GitHub. It contains the release's source code and other assets \n",
    "- The source code on the master branch at the release tag is deployed into production"
   ]
  },
  {
   "cell_type": "markdown",
   "metadata": {},
   "source": [
    "# Tutorial Overview"
   ]
  },
  {
   "cell_type": "markdown",
   "metadata": {},
   "source": [
    "This tutorial is a work in progress and will eventually cover the full FHIR model development life cycle (develop, test, release and deployment into a FHIR server) as well as the development life cycle for FHIR data ingest modules. \n",
    "\n",
    "However right now, the primary focus of this tutorial will be the `Develop` and `Test` parts of the FHIR model development life cycle. Additional sections will be added in time. \n",
    "\n",
    "The ✅ indicate what the tutorial covers right now and the ☑️ indicate what will be added later.\n",
    "\n",
    "### FHIR Model Development Life Cycle\n",
    "\n",
    "**Develop**\n",
    "1. ✅ Create the an extension and terminology to capture a Patient's species\n",
    "2. ✅ Bind the extension to the NCPI Project Forge Patient model\n",
    "\n",
    "**Test**\n",
    "3. ✅ Test the extension in the example NCPI Patient resource\n",
    "4. ✅ Validate the NCPI Project Forge model using the NCPI FHIR utility\n",
    "\n",
    "**Continuous Integration**\n",
    "5. ✅ Push the code to Github on a feature branch\n",
    "6. ✅ Make a Pull Request\n",
    "7. ☑️ Review and merge Pull Request\n",
    "\n",
    "**Release**\n",
    "8. ☑️ Add the Github automated release workflow to the repo\n",
    "8. ☑️ Create a release Pull Request\n",
    "9. ☑️ Review and merge the release Pull Request\n",
    "\n",
    "**Continous Deployment**\n",
    "10. ☑️ Verify the model deployed to the NCPI FHIR server in `dev`\n",
    "\n",
    "\n",
    "### FHIR Ingest Development Life Cycle\n",
    "\n",
    "**Experiment + Learn**\n",
    "1. ✅ Setup the Docker Compose stack to run the NCPI FHIR server and dashboard on your local machine\n",
    "2. ✅ Transform COVID19 FHIR patients into NCPI Patients and load into your server\n",
    "3. ✅ Use the FHIR data dashboard to browse data in your server\n",
    "\n",
    "**Develop**\n",
    "1. ☑️ Implement a FHIR ingest module to ingest NCPI Patient resources from tabular source data \n",
    "\n",
    "**Test**\n",
    "3. ☑️ Add a test for the ingest plugin to the integration test suite\n",
    "4. ☑️ Run integration tests locally\n",
    "\n",
    "**Continuous Integration**\n",
    "5. ☑️ Push the code to Github on a feature branch\n",
    "6. ☑️ Make a Pull Request\n",
    "7. ☑️ Review and merge Pull Request\n",
    "\n",
    "**Release**\n",
    "8. ☑️ Add the Github automated release workflow to the repo\n",
    "8. ☑️ Create a release Pull Request\n",
    "9. ☑️ Review and merge the release Pull Request"
   ]
  },
  {
   "cell_type": "markdown",
   "metadata": {},
   "source": [
    "# Tutorial: FHIR Model Development"
   ]
  },
  {
   "cell_type": "markdown",
   "metadata": {},
   "source": [
    "## Setup 🖐"
   ]
  },
  {
   "cell_type": "markdown",
   "metadata": {},
   "source": [
    "To setup your development environment, please follow the instructions in the **Contributors** section of the [ncpi-model-forge repository's README](https://github.com/ncpi-fhir/ncpi-model-forge/blob/master/README.md). When you are finished you should have installed/setup:\n",
    "\n",
    "### Project Forge FHIR model source\n",
    "- A clone of [ncpi-model-forge](https://github.com/ncpi-fhir/ncpi-model-forge)\n",
    "\n",
    "### Model Development Tools\n",
    "- NCPI FHIR utility from the `ncpi-fhir-utility` git repo\n",
    "- HL7 IG Publisher (needed if you don't use `ncpi-fhir-utility` validation)\n",
    "- Docker CE (if you use `ncpi-fhir-utility` validation)\n",
    "\n",
    "### Tutorial Materials\n",
    "- Python `jupyter` package to run this notebook"
   ]
  },
  {
   "cell_type": "markdown",
   "metadata": {},
   "source": [
    "### Project Forge Repository Layout"
   ]
  },
  {
   "cell_type": "markdown",
   "metadata": {},
   "source": [
    "1. [NCPI Project Forge ImplementationGuide](https://github.com/ncpi-fhir/ncpi-model-forge/tree/master/site_root) (`site_root`)\n",
    "    - The files and required folder structure needed to build standard HL7 documentation site for the FHIR model\n",
    "    - `ImplementationGuide` is the FHIR term for the FHIR model's documentation site \n",
    "    \n",
    "    \n",
    "2. [NCPI Project Forge FHIR Model](https://github.com/ncpi-fhir/ncpi-model-forge/tree/master/site_root/input/resources) (`site_root/input/resources`) \n",
    "    - Conformance and example resource files that make up the FHIR model.\n",
    "\n",
    "\n",
    "3. [Integration Tests](https://github.com/ncpi-fhir/ncpi-model-forge/tree/master/tests) (`tests`) \n",
    "    - Tests to validate FHIR model deployment\n",
    "\n",
    "\n",
    "4. [Tutorial Data](https://github.com/ncpi-fhir/ncpi-model-forge/tree/master/data) (`data`)\n",
    "    - The tutorial's completed FHIR model resources.\n",
    "    \n",
    "⚡️ **The NCPI FHIR model must follow a specific file and folder hierarchy because model validation is done using the standard HL7 validator called the ImplementationGuide publisher. This tool expects a particular structure.**"
   ]
  },
  {
   "cell_type": "markdown",
   "metadata": {},
   "source": [
    "## FHIR Concept Refresher"
   ]
  },
  {
   "cell_type": "markdown",
   "metadata": {},
   "source": [
    "Before we begin, let's do a quick refresher on some key modeling concepts in FHIR: \n",
    "\n",
    "### FHIR Base Model\n",
    "- FHIR comes with a model for the core FHIR resources (e.g. Patient, Specimen, Observation, etc.)\n",
    "- The phrase \"FHIR Model\" refers to a set of FHIR conformance and terminology resources\n",
    "\n",
    "### Conformance Resources\n",
    "- An entity in FHIR is called a `Resource`. Examples: `Patient`, `Specimen`, `StructureDefinition`\n",
    "- Types of conformance resources include `StructureDefinition`, `CodeSystem`, `SearchParameter`.\n",
    "- A `StructureDefinition` is essentially a schema. \n",
    "- A `StructureDefinition` can represent the schema for a particular FHIR resource (e.g. Patient) or an attribute  on a FHIR resource (e.g. biological-sex)\n",
    "- A `StructureDefinition` that represents an attribute on a FHIR resource (e.g. biological-sex) is called an Extension\n",
    "- An Extension based `StructureDefinition` is used to add a new attribute to a FHIR resource\n",
    "- A non-Extension based `StructureDefinition` is often called a `profile`\n",
    "\n",
    "### Terminology Resources\n",
    "- A `CodeSystem` is a FHIR resource that represents an ontology\n",
    "- A `CodeSystem` contains concepts and their codes \n",
    "- A `ValueSet` is a restricted set of codes (e.g. `male` | `female`) from one or more `CodeSystems`\n",
    "- A `ValueSet` can be bound to an attribute on a FHIR resource to restrict the values of the attribute\n",
    "\n",
    "\n",
    "⚡️ **To \"develop a FHIR model\" means to extend the conformance resources in the base model**"
   ]
  },
  {
   "cell_type": "markdown",
   "metadata": {
    "heading_collapsed": true
   },
   "source": [
    "## Objective\n",
    "As a FHIR model developer, I've been tasked to extend the [NCPI Patient model](https://github.com/ncpi-fhir/ncpi-model-forge/blob/master/site_root/input/resources/profiles/StructureDefinition-ncpi-patient.json) with a new attribute to capture the Patient's species. \n",
    "\n",
    "How do I know what kinds of values species will take on, what data type to use etc? \n",
    "\n",
    "As a model developer, I should be given these details in an implementation task defiend by the Project Forge modeling team. \n",
    "\n",
    "I can find more details on exactly what should be implemented here in the [GitHub issue](https://github.com/ncpi-fhir/ncpi-model-forge/issues/6) that has been created for this task."
   ]
  },
  {
   "cell_type": "markdown",
   "metadata": {},
   "source": [
    "## Create an Extension for Patient species 🖐"
   ]
  },
  {
   "cell_type": "markdown",
   "metadata": {},
   "source": [
    "From reading the Github issue, I know I need to create an `Extension` type `StructureDefinition` resource to capture species of a Patient. \n",
    "\n",
    "There are a number of tools for authoring FHIR resources, however, most of the time it is easiest to search for existing similar extensions on the 📘 [HL7 FHIR website](https://registry.fhir.org/). \n",
    "\n",
    "Let's take a look at the species Extension from the tutorial's data directory:"
   ]
  },
  {
   "cell_type": "code",
   "execution_count": 2,
   "metadata": {},
   "outputs": [
    {
     "name": "stdout",
     "output_type": "stream",
     "text": [
      "{'abstract': False,\n",
      " 'baseDefinition': 'http://hl7.org/fhir/StructureDefinition/Extension',\n",
      " 'context': [{'expression': 'Patient', 'type': 'element'}],\n",
      " 'derivation': 'constraint',\n",
      " 'description': 'Species of the NCPI Project Forge Patient.',\n",
      " 'differential': {'element': [{'definition': 'Species of the NCPI Project '\n",
      "                                             'Forge Patient.',\n",
      "                               'id': 'Extension',\n",
      "                               'isModifier': False,\n",
      "                               'max': '1',\n",
      "                               'min': 0,\n",
      "                               'mustSupport': True,\n",
      "                               'path': 'Extension',\n",
      "                               'short': 'Species'},\n",
      "                              {'id': 'Extension.extension',\n",
      "                               'path': 'Extension.extension'},\n",
      "                              {'fixedUri': 'http://fhir.ncpi-project-forge.io/StructureDefinition/species',\n",
      "                               'id': 'Extension.url',\n",
      "                               'path': 'Extension.url',\n",
      "                               'type': [{'code': 'uri'}]},\n",
      "                              {'binding': {'description': 'Species of the NCPI '\n",
      "                                                          'Project Forge '\n",
      "                                                          'Patient.',\n",
      "                                           'strength': 'required',\n",
      "                                           'valueSet': 'http://fhir.ncpi-project-forge.io/ValueSet/species'},\n",
      "                               'id': 'Extension.value[x]',\n",
      "                               'path': 'Extension.value[x]',\n",
      "                               'type': [{'code': 'CodeableConcept'}]}]},\n",
      " 'fhirVersion': '4.0.0',\n",
      " 'id': 'species',\n",
      " 'kind': 'complex-type',\n",
      " 'name': 'species',\n",
      " 'resourceType': 'StructureDefinition',\n",
      " 'status': 'draft',\n",
      " 'title': 'Species',\n",
      " 'type': 'Extension',\n",
      " 'url': 'http://fhir.ncpi-project-forge.io/StructureDefinition/species',\n",
      " 'version': '0.1.0'}\n"
     ]
    }
   ],
   "source": [
    "import os\n",
    "import json \n",
    "from pprint import pprint\n",
    "\n",
    "DATA_DIR = os.path.abspath('data')\n",
    "\n",
    "with open(os.path.join(DATA_DIR, 'StructureDefinition-species.json')) as json_file:\n",
    "    pprint(json.load(json_file))"
   ]
  },
  {
   "cell_type": "markdown",
   "metadata": {},
   "source": [
    "Now add this into the FHIR model's extension directory:"
   ]
  },
  {
   "cell_type": "code",
   "execution_count": 3,
   "metadata": {},
   "outputs": [
    {
     "name": "stdout",
     "output_type": "stream",
     "text": [
      "README.md\r\n",
      "StructureDefinition-species.json\r\n",
      "StructureDefinition-us-core-ethnicity.json\r\n",
      "StructureDefinition-us-core-race.json\r\n"
     ]
    }
   ],
   "source": [
    "!cp data/StructureDefinition-species.json site_root/input/resources/extensions\n",
    "!ls site_root/input/resources/extensions"
   ]
  },
  {
   "cell_type": "markdown",
   "metadata": {},
   "source": [
    "### Important Notes \n",
    "\n",
    "If any of this feel foreign to you, head over to the [FHIR 101 Notebook](https://github.com/ncpi-fhir/fhir-101) for a refresher on FHIR modeling concepts. \n",
    "\n",
    "The key things to note with the species Extension are: \n",
    "\n",
    "- It has a data type of `CodeableConcept` - values are codes from an ontology\n",
    "- It is bound to a `ValueSet` - values will be restricted to whatever is in the `ValueSet`"
   ]
  },
  {
   "cell_type": "markdown",
   "metadata": {},
   "source": [
    "### ⚡️ Make sure to periodically commit your code to your feature branch"
   ]
  },
  {
   "cell_type": "markdown",
   "metadata": {},
   "source": [
    "Run the following commands in your terminal\n",
    "```shell\n",
    "# Ensure you are in the ncpi-model-forge folder, then make a feature branch\n",
    "git checkout -b add-patient-species\n",
    "# Check which files have changed\n",
    "git status\n",
    "# Stage and commit the files you want to save\n",
    "git add site_root/input/resources/extensions\n",
    "git commit -m \":sparkles: Add Patient species extension\"\n",
    "```\n",
    "\n",
    "All git commits in NCPI projects are prefixed with an emjoi shortcode that describes the type of commit (e.g. feature, refactor, etc). Emojis can be found at [Gitmoji](https://gitmoji.carloscuesta.me/). "
   ]
  },
  {
   "cell_type": "markdown",
   "metadata": {},
   "source": [
    "## Create the terminology resources for Patient species 🖐"
   ]
  },
  {
   "cell_type": "markdown",
   "metadata": {},
   "source": [
    "### CodeSystem for species\n",
    "When including terminology resources in your FHIR model, you can do one of two things: \n",
    "\n",
    "1. Create a `CodeSystem` with the codes you want and add it to your model\n",
    "2. Point to a `CodeSystem` in an external FHIR terminology server\n",
    "\n",
    "The second method is outside the scope of this tutorial so we will create a `CodeSystem` to capture the two SNOMEDCT codes species: \n",
    "\n",
    "- `Homo sapien` (human)\n",
    "- `Canis lupus subspecies familiaris` (domestic dog)\n",
    "\n",
    "Once again let's take a look at the tutorial data's species `CodeSystem`:"
   ]
  },
  {
   "cell_type": "code",
   "execution_count": 26,
   "metadata": {},
   "outputs": [
    {
     "name": "stdout",
     "output_type": "stream",
     "text": [
      "{'caseSensitive': True,\n",
      " 'concept': [{'code': '337915000',\n",
      "              'definition': 'Human.',\n",
      "              'display': 'Homo sapiens'},\n",
      "             {'code': '448771007',\n",
      "              'definition': 'Domestic dog.',\n",
      "              'display': 'Canis lupus subspecies familiaris'}],\n",
      " 'content': 'complete',\n",
      " 'count': 2,\n",
      " 'description': 'Species of the NCPI Project Forge Patient, imported from '\n",
      "                'http://snomed.info/sct.',\n",
      " 'experimental': False,\n",
      " 'id': 'species',\n",
      " 'name': 'species',\n",
      " 'publisher': 'NCPI Project Forge',\n",
      " 'resourceType': 'CodeSystem',\n",
      " 'status': 'draft',\n",
      " 'title': 'Species',\n",
      " 'url': 'http://fhir.ncpi-project-forge.io/CodeSystem/species',\n",
      " 'version': '0.1.0'}\n"
     ]
    }
   ],
   "source": [
    "with open(os.path.join(DATA_DIR, 'CodeSystem-species.json')) as json_file:\n",
    "    pprint(json.load(json_file))"
   ]
  },
  {
   "cell_type": "markdown",
   "metadata": {},
   "source": [
    "Now add this into the FHIR model's terminology directory:"
   ]
  },
  {
   "cell_type": "code",
   "execution_count": 5,
   "metadata": {},
   "outputs": [
    {
     "name": "stdout",
     "output_type": "stream",
     "text": [
      "CodeSystem-cdcrec.json               ValueSet-detailed-race.json\r\n",
      "CodeSystem-species.json              ValueSet-omb-ethnicity-category.json\r\n",
      "README.md                            ValueSet-omb-race-category.json\r\n",
      "ValueSet-detailed-ethnicity.json     ValueSet-species.json\r\n"
     ]
    }
   ],
   "source": [
    "!cp data/CodeSystem-species.json site_root/input/resources/terminology\n",
    "!ls site_root/input/resources/terminology"
   ]
  },
  {
   "cell_type": "markdown",
   "metadata": {},
   "source": [
    "### ValueSet for species\n",
    "\n",
    "Next we need to create a `ValuetSet` which includes all of the codes from our species `CodeSystem`. This `ValueSet` will be bound to the species extension. In fact, if you go back and look at the `StructureDefinition-species.json` extension, you'll see that the binding is already there. \n",
    "\n",
    "Again let's look at the species `ValuSet` that has been created for this tutorial:"
   ]
  },
  {
   "cell_type": "code",
   "execution_count": 6,
   "metadata": {},
   "outputs": [
    {
     "name": "stdout",
     "output_type": "stream",
     "text": [
      "{'compose': {'include': [{'system': 'http://fhir.ncpi-project-forge.io/CodeSystem/species'}]},\n",
      " 'description': 'Species of the NCPI Project Forge Patient.',\n",
      " 'experimental': False,\n",
      " 'id': 'species',\n",
      " 'name': 'species',\n",
      " 'publisher': 'NCPI Project Forge',\n",
      " 'resourceType': 'ValueSet',\n",
      " 'status': 'draft',\n",
      " 'title': 'Species',\n",
      " 'url': 'http://fhir.ncpi-project-forge.io/ValueSet/species',\n",
      " 'version': '0.1.0'}\n"
     ]
    }
   ],
   "source": [
    "with open(os.path.join(DATA_DIR, 'ValueSet-species.json')) as json_file:\n",
    "    pprint(json.load(json_file))"
   ]
  },
  {
   "cell_type": "markdown",
   "metadata": {},
   "source": [
    "Now add this into the FHIR model's terminology directory:"
   ]
  },
  {
   "cell_type": "code",
   "execution_count": 7,
   "metadata": {},
   "outputs": [
    {
     "name": "stdout",
     "output_type": "stream",
     "text": [
      "CodeSystem-cdcrec.json               ValueSet-detailed-race.json\r\n",
      "CodeSystem-species.json              ValueSet-omb-ethnicity-category.json\r\n",
      "README.md                            ValueSet-omb-race-category.json\r\n",
      "ValueSet-detailed-ethnicity.json     ValueSet-species.json\r\n"
     ]
    }
   ],
   "source": [
    "!cp data/ValueSet-species.json site_root/input/resources/terminology\n",
    "!ls site_root/input/resources/terminology"
   ]
  },
  {
   "cell_type": "markdown",
   "metadata": {},
   "source": [
    "### Important Notes \n",
    "\n",
    "The key characteristics of our terminology resources are: \n",
    "\n",
    "- The CodeSystem has 2 concepts and their codes from the SNOMEDCT ontology\n",
    "- The ValueSet includes all codes from our CodeSystem\n"
   ]
  },
  {
   "cell_type": "markdown",
   "metadata": {
    "heading_collapsed": true
   },
   "source": [
    "## Add species to the NCPI Patient StructureDefinition 🖐"
   ]
  },
  {
   "cell_type": "markdown",
   "metadata": {
    "hidden": true
   },
   "source": [
    "The last thing we need to do is actually add an attribute (also known as binding an extension) to our existing NCPI Patient StructureDefinition to capture species.\n",
    "\n",
    "Here's what that looks like:"
   ]
  },
  {
   "cell_type": "code",
   "execution_count": 27,
   "metadata": {
    "hidden": true
   },
   "outputs": [
    {
     "name": "stdout",
     "output_type": "stream",
     "text": [
      "{'abstract': False,\n",
      " 'baseDefinition': 'http://hl7.org/fhir/StructureDefinition/Patient',\n",
      " 'derivation': 'constraint',\n",
      " 'differential': {'element': [{'id': 'Patient', 'path': 'Patient'},\n",
      "                              {'id': 'Patient.extension',\n",
      "                               'path': 'Patient.extension',\n",
      "                               'slicing': {'discriminator': [{'path': 'url',\n",
      "                                                              'type': 'value'}],\n",
      "                                           'ordered': False,\n",
      "                                           'rules': 'open'}},\n",
      "                              {'definition': 'Concepts classifying the person '\n",
      "                                             'into a named category of humans '\n",
      "                                             'sharing common history, traits, '\n",
      "                                             'geographical origin or '\n",
      "                                             'nationality.  The ethnicity '\n",
      "                                             'codes used to represent these '\n",
      "                                             'concepts are based upon the [CDC '\n",
      "                                             'ethnicity and Ethnicity Code Set '\n",
      "                                             'Version '\n",
      "                                             '1.0](http://www.cdc.gov/phin/resources/vocabulary/index.html) '\n",
      "                                             'which includes over 900 concepts '\n",
      "                                             'for representing race and '\n",
      "                                             'ethnicity of which 43 reference '\n",
      "                                             'ethnicity.  The ethnicity '\n",
      "                                             'concepts are grouped by and '\n",
      "                                             'pre-mapped to the 2 OMB '\n",
      "                                             'ethnicity categories: - Hispanic '\n",
      "                                             'or Latino - Not Hispanic or '\n",
      "                                             'Latino.',\n",
      "                               'id': 'Patient.extension:us-core-ethnicity',\n",
      "                               'isModifier': False,\n",
      "                               'max': '1',\n",
      "                               'min': 0,\n",
      "                               'mustSupport': True,\n",
      "                               'path': 'Patient.extension',\n",
      "                               'short': 'US Core Ethnicity Extension',\n",
      "                               'sliceIsConstraining': False,\n",
      "                               'sliceName': 'us-core-ethnicity',\n",
      "                               'type': [{'code': 'Extension',\n",
      "                                         'profile': ['http://hl7.org/fhir/us/core/StructureDefinition/us-core-ethnicity']}]},\n",
      "                              {'definition': 'Concepts classifying the person '\n",
      "                                             'into a named category of humans '\n",
      "                                             'sharing common history, traits, '\n",
      "                                             'geographical origin or '\n",
      "                                             'nationality.  The race codes '\n",
      "                                             'used to represent these concepts '\n",
      "                                             'are based upon the [CDC Race and '\n",
      "                                             'Ethnicity Code Set Version '\n",
      "                                             '1.0](http://www.cdc.gov/phin/resources/vocabulary/index.html) '\n",
      "                                             'which includes over 900 concepts '\n",
      "                                             'for representing race and '\n",
      "                                             'ethnicity of which 921 reference '\n",
      "                                             'race.  The race concepts are '\n",
      "                                             'grouped by and pre-mapped to the '\n",
      "                                             '5 OMB race categories:\\n'\n",
      "                                             '\\n'\n",
      "                                             '   - American Indian or Alaska '\n",
      "                                             'Native\\n'\n",
      "                                             '   - Asian\\n'\n",
      "                                             '   - Black or African American\\n'\n",
      "                                             '   - Native Hawaiian or Other '\n",
      "                                             'Pacific Islander\\n'\n",
      "                                             '   - White.',\n",
      "                               'id': 'Patient.extension:us-core-race',\n",
      "                               'isModifier': False,\n",
      "                               'max': '1',\n",
      "                               'min': 0,\n",
      "                               'mustSupport': True,\n",
      "                               'path': 'Patient.extension',\n",
      "                               'short': 'US Core Race Extension',\n",
      "                               'sliceName': 'us-core-race',\n",
      "                               'type': [{'code': 'Extension',\n",
      "                                         'profile': ['http://hl7.org/fhir/us/core/StructureDefinition/us-core-race']}]},\n",
      "                              {'definition': 'Species of the NCPI Project '\n",
      "                                             'Forge Patient.',\n",
      "                               'id': 'Patient.extension:species',\n",
      "                               'isModifier': False,\n",
      "                               'max': '1',\n",
      "                               'min': 0,\n",
      "                               'mustSupport': True,\n",
      "                               'path': 'Patient.extension',\n",
      "                               'short': 'Species',\n",
      "                               'sliceName': 'species',\n",
      "                               'type': [{'code': 'Extension',\n",
      "                                         'profile': ['http://fhir.ncpi-project-forge.io/StructureDefinition/species']}]}]},\n",
      " 'fhirVersion': '4.0.0',\n",
      " 'id': 'ncpi-patient',\n",
      " 'kind': 'resource',\n",
      " 'name': 'ncpi-patient',\n",
      " 'resourceType': 'StructureDefinition',\n",
      " 'status': 'draft',\n",
      " 'title': 'NCPI Project Forge Patient',\n",
      " 'type': 'Patient',\n",
      " 'url': 'http://fhir.ncpi-project-forge.io/StructureDefinition/ncpi-patient',\n",
      " 'version': '0.1.0'}\n"
     ]
    }
   ],
   "source": [
    "with open(os.path.join(DATA_DIR, 'StructureDefinition-ncpi-patient.json')) as json_file:\n",
    "    pprint(json.load(json_file))"
   ]
  },
  {
   "cell_type": "markdown",
   "metadata": {
    "hidden": true
   },
   "source": [
    "Now overwrite the NCPI Patient StructureDefinition with our modified one: "
   ]
  },
  {
   "cell_type": "code",
   "execution_count": 9,
   "metadata": {
    "hidden": true
   },
   "outputs": [
    {
     "name": "stdout",
     "output_type": "stream",
     "text": [
      "README.md                             StructureDefinition-ncpi-patient.json\r\n"
     ]
    }
   ],
   "source": [
    "!cp data/StructureDefinition-ncpi-patient.json site_root/input/resources/profiles\n",
    "!ls site_root/input/resources/profiles"
   ]
  },
  {
   "cell_type": "markdown",
   "metadata": {
    "heading_collapsed": true
   },
   "source": [
    "## Background on FHIR Model Testing"
   ]
  },
  {
   "cell_type": "markdown",
   "metadata": {
    "hidden": true
   },
   "source": [
    "At this point we've completed all of the implementation needed to extend our NCPI Patient with a new attribute to capture the patient's species. Now we need to test our FHIR model. \n",
    "\n",
    "Before we do that let's go over what we mean by \"test\" since it encompasses several things:\n",
    "\n",
    "### Verify FHIR model \n",
    "\n",
    "We need to verify that our FHIR model is syntactically and semantically correct according to the FHIR specification. \n",
    "\n",
    "### Validate that the FHIR model \n",
    "After we've verified that the FHIR model is constructed properly and follows all of the rules in the FHIR specification, we need to make sure it does what we expect it to. \n",
    "\n",
    "To do this, we create example FHIR resources which make use of the profiles in our FHIR model and then validate them in our test process.\n",
    "\n",
    "### Test Documentation Generation\n",
    "The FHIR specification includes a standard documentation format for FHIR models. The documentation for a FHIR model is in the form of a static site called an `ImplementationGuide`. \n",
    "\n",
    "As previously mentioned in the [Project Forge Repository Layout](#Project-Forge-Repository-Layout) section, the `ncpi-model-forge` repository must follow a certain structure and include certain configuration files in order for the `ImplementationGuide` static site to be built successfully. \n",
    "\n",
    "We always want to generate documentation for our model as we develop it and so part of our tests need to ensure that the `ImplementationGuide` will be built successfully.\n",
    "\n",
    "### Naming Conventions\n",
    "The FHIR specification does not have a standard for naming conventions of files or resource IDs. However it is very important to have consistency across all FHIR resources in the model. \n",
    "\n",
    "The Project Forge FHIR model follows these [NCPI Naming Conventions](https://github.com/ncpi-fhir/ncpi-model-forge/blob/master/docs/naming_conventions.md) which are validated as part of testing the FHIR model.\n",
    "\n",
    "### Integration Tests\n",
    "\n",
    "🚧 This section is coming soon\n",
    "\n",
    "- FHIR model deployment\n",
    "- Search parameter testing\n",
    "- FHIR ingest testing\n",
    "\n",
    "### Tools\n",
    "\n",
    "#### HL7 Validation Tool\n",
    "Most of the testing for the FHIR model (steps 1-3) can be accomplished using the official HL7 FHIR model validation tool called the [HL7 ImplementationGuide Publisher](https://confluence.hl7.org/display/FHIR/IG+Publisher+Documentation) or `IG Publisher` for short.\n",
    "\n",
    "However, the IG Publisher is not easy to use since it requires special configuration for each resource in the FHIR model. Additionally, the IG Publisher does NOT test that all resource files and IDs follow the NCPI naming conventions.\n",
    "\n",
    "#### NCPI FHIR Utility\n",
    "For these reasons, NCPI has developed a Python command line utility, `fhirutil`, which makes FHIR model validation using the IG Publisher a lot easier. This utility also has a handful of other useful functions which we may use later (e.g. push resources to a FHIR server, version FHIR resources, JSON/XML conversion, etc) "
   ]
  },
  {
   "cell_type": "markdown",
   "metadata": {},
   "source": [
    "## Test the FHIR Model 🖐"
   ]
  },
  {
   "cell_type": "markdown",
   "metadata": {},
   "source": [
    "### Modify NCPI Patient example to use species"
   ]
  },
  {
   "cell_type": "markdown",
   "metadata": {},
   "source": [
    "Before we run our tests, we need to create an example NCPI Patient which has a value for the species attribute so that we can test that our species Extension works as expected.\n",
    "\n",
    "Let's take a look at the example NCPI Patient from the tutorial data directory which already has this implemented:"
   ]
  },
  {
   "cell_type": "code",
   "execution_count": 22,
   "metadata": {},
   "outputs": [
    {
     "name": "stdout",
     "output_type": "stream",
     "text": [
      "{'address': [{'city': 'Philadelphia',\n",
      "              'line': ['3401 Civic Center Blvd.'],\n",
      "              'postalCode': '19104',\n",
      "              'state': 'PA',\n",
      "              'text': '3401 Civic Center Blvd., Philadelphia, PA 19104',\n",
      "              'type': 'both',\n",
      "              'use': 'home'}],\n",
      " 'birthDate': '2019-01-01',\n",
      " 'contact': [{'address': {'city': 'Philadelphia',\n",
      "                          'line': ['3401 Civic Center Blvd.'],\n",
      "                          'postalCode': '19104',\n",
      "                          'state': 'PA',\n",
      "                          'text': '3401 Civic Center Blvd., Philadelphia, PA '\n",
      "                                  '19104',\n",
      "                          'type': 'both',\n",
      "                          'use': 'home'},\n",
      "              'gender': 'male',\n",
      "              'name': {'family': 'Smith',\n",
      "                       'given': ['John', 'Samuel'],\n",
      "                       'text': 'John Samuel Smith',\n",
      "                       'use': 'official'},\n",
      "              'relationship': [{'coding': [{'code': 'C',\n",
      "                                            'display': 'Emergency Contact',\n",
      "                                            'system': 'http://terminology.hl7.org/CodeSystem/v2-0131'}],\n",
      "                                'text': 'Father'}],\n",
      "              'telecom': [{'rank': 1,\n",
      "                           'system': 'phone',\n",
      "                           'use': 'home',\n",
      "                           'value': '(555) 555-5555'}]}],\n",
      " 'extension': [{'extension': [{'url': 'ombCategory',\n",
      "                               'valueCoding': {'code': '2135-2',\n",
      "                                               'display': 'Hispanic or Latino',\n",
      "                                               'system': 'urn:oid:2.16.840.1.113883.6.238'}},\n",
      "                              {'url': 'text',\n",
      "                               'valueString': 'Hispanic or Latino'}],\n",
      "                'url': 'http://hl7.org/fhir/us/core/StructureDefinition/us-core-ethnicity'},\n",
      "               {'extension': [{'url': 'ombCategory',\n",
      "                               'valueCoding': {'code': '2106-3',\n",
      "                                               'display': 'White',\n",
      "                                               'system': 'urn:oid:2.16.840.1.113883.6.238'}},\n",
      "                              {'url': 'text', 'valueString': 'White'}],\n",
      "                'url': 'http://hl7.org/fhir/us/core/StructureDefinition/us-core-race'},\n",
      "               {'url': 'http://fhir.ncpi-project-forge.io/StructureDefinition/species',\n",
      "                'valueCodeableConcept': {'coding': [{'code': '337915000',\n",
      "                                                     'display': 'Homo sapiens',\n",
      "                                                     'system': 'http://fhir.ncpi-project-forge.io/CodeSystem/species'}],\n",
      "                                         'text': 'Homo Sapiens'}}],\n",
      " 'gender': 'female',\n",
      " 'id': 'pt-001',\n",
      " 'identifier': [{'system': 'https://kf-api-dataservice.kidsfirstdrc.org/participants?study_id=SD_PREASA7S',\n",
      "                 'value': '14999'}],\n",
      " 'meta': {'profile': ['http://fhir.ncpi-project-forge.io/StructureDefinition/ncpi-patient']},\n",
      " 'name': [{'family': 'Smith',\n",
      "           'given': ['Mariah', 'Abigail'],\n",
      "           'text': 'Mariah Abigail Smith',\n",
      "           'use': 'official'}],\n",
      " 'resourceType': 'Patient',\n",
      " 'telecom': [{'rank': 1,\n",
      "              'system': 'phone',\n",
      "              'use': 'home',\n",
      "              'value': '(555) 555-5555'}]}\n"
     ]
    }
   ],
   "source": [
    "with open(os.path.join(DATA_DIR, 'Patient-pt-001.json')) as json_file:\n",
    "    pprint(json.load(json_file))"
   ]
  },
  {
   "cell_type": "markdown",
   "metadata": {},
   "source": [
    "### Run Tests\n",
    "\n",
    "Testing your FHIR model is fairly easy with the `fhirutil` tool. There are two ways of using it, which are detailed in the `ncpi-project-forge` [README](https://github.com/ncpi-fhir/ncpi-model-forge). \n",
    "\n",
    "We will use method 2 since it is faster. This method uses both the NCPI `fhirutil` CLI and the native IG Publisher to test your model.\n",
    "\n",
    "1. First you will run the `fhirutil add` command which does 2 things:\n",
    "\n",
    "    - Tells the IG Publisher which resources to validate and include in the generated documentation site\n",
    "    - Validates that resource files and resource IDs follow NCPI naming conventions\n",
    "\n",
    "\n",
    "2. Next you will run the IG Publisher jar which:\n",
    "    \n",
    "    - Verifies the FHIR model conforms to the HL7 FHIR spec\n",
    "    - Builds the documentation site (ImplementationGuide) for your model"
   ]
  },
  {
   "cell_type": "code",
   "execution_count": 23,
   "metadata": {},
   "outputs": [
    {
     "name": "stdout",
     "output_type": "stream",
     "text": [
      "2020-06-25 21:56:59,302 - ncpi_fhir_utility.loader - DEBUG - Reading resource file: /Users/singhn4/Projects/fhir-sci/ncpi-model-forge/site_root/input/resources/examples/Patient-pt-001.json\r\n",
      "2020-06-25 21:56:59,302 - ncpi_fhir_utility.loader - DEBUG - Reading resource file: /Users/singhn4/Projects/fhir-sci/ncpi-model-forge/site_root/input/resources/extensions/StructureDefinition-species.json\r\n",
      "2020-06-25 21:56:59,303 - ncpi_fhir_utility.loader - DEBUG - Reading resource file: /Users/singhn4/Projects/fhir-sci/ncpi-model-forge/site_root/input/resources/extensions/StructureDefinition-us-core-ethnicity.json\r\n",
      "2020-06-25 21:56:59,304 - ncpi_fhir_utility.loader - DEBUG - Reading resource file: /Users/singhn4/Projects/fhir-sci/ncpi-model-forge/site_root/input/resources/extensions/StructureDefinition-us-core-race.json\r\n",
      "2020-06-25 21:56:59,305 - ncpi_fhir_utility.loader - DEBUG - Reading resource file: /Users/singhn4/Projects/fhir-sci/ncpi-model-forge/site_root/input/resources/profiles/StructureDefinition-ncpi-patient.json\r\n",
      "2020-06-25 21:56:59,306 - ncpi_fhir_utility.loader - DEBUG - Reading resource file: /Users/singhn4/Projects/fhir-sci/ncpi-model-forge/site_root/input/resources/search/SearchParameter-us-core-ethnicity.json\r\n",
      "2020-06-25 21:56:59,306 - ncpi_fhir_utility.loader - DEBUG - Reading resource file: /Users/singhn4/Projects/fhir-sci/ncpi-model-forge/site_root/input/resources/search/SearchParameter-us-core-race.json\r\n",
      "2020-06-25 21:56:59,306 - ncpi_fhir_utility.loader - DEBUG - Reading resource file: /Users/singhn4/Projects/fhir-sci/ncpi-model-forge/site_root/input/resources/terminology/CodeSystem-cdcrec.json\r\n",
      "2020-06-25 21:56:59,308 - ncpi_fhir_utility.loader - DEBUG - Reading resource file: /Users/singhn4/Projects/fhir-sci/ncpi-model-forge/site_root/input/resources/terminology/CodeSystem-species.json\r\n",
      "2020-06-25 21:56:59,309 - ncpi_fhir_utility.loader - DEBUG - Reading resource file: /Users/singhn4/Projects/fhir-sci/ncpi-model-forge/site_root/input/resources/terminology/ValueSet-detailed-ethnicity.json\r\n",
      "2020-06-25 21:56:59,309 - ncpi_fhir_utility.loader - DEBUG - Reading resource file: /Users/singhn4/Projects/fhir-sci/ncpi-model-forge/site_root/input/resources/terminology/ValueSet-detailed-race.json\r\n",
      "2020-06-25 21:56:59,309 - ncpi_fhir_utility.loader - DEBUG - Reading resource file: /Users/singhn4/Projects/fhir-sci/ncpi-model-forge/site_root/input/resources/terminology/ValueSet-omb-ethnicity-category.json\r\n",
      "2020-06-25 21:56:59,309 - ncpi_fhir_utility.loader - DEBUG - Reading resource file: /Users/singhn4/Projects/fhir-sci/ncpi-model-forge/site_root/input/resources/terminology/ValueSet-omb-race-category.json\r\n",
      "2020-06-25 21:56:59,309 - ncpi_fhir_utility.loader - DEBUG - Reading resource file: /Users/singhn4/Projects/fhir-sci/ncpi-model-forge/site_root/input/resources/terminology/ValueSet-species.json\r\n",
      "2020-06-25 21:56:59,310 - ncpi_fhir_utility.loader - DEBUG - Reading resource file: /Users/singhn4/Projects/fhir-sci/ncpi-model-forge/site_root/input/ImplementationGuide-NCPI-Project-Forge.json\r\n",
      "2020-06-25 21:56:59,311 - ncpi_fhir_utility.app - INFO - ☑️ Initial validation passed for resource Patient-pt-001.json\r\n",
      "2020-06-25 21:56:59,311 - ncpi_fhir_utility.app - INFO - ☑️ Initial validation passed for resource StructureDefinition-species.json\r\n",
      "2020-06-25 21:56:59,311 - ncpi_fhir_utility.app - INFO - ☑️ Initial validation passed for resource StructureDefinition-us-core-ethnicity.json\r\n",
      "2020-06-25 21:56:59,311 - ncpi_fhir_utility.app - INFO - ☑️ Initial validation passed for resource StructureDefinition-us-core-race.json\r\n",
      "2020-06-25 21:56:59,311 - ncpi_fhir_utility.app - INFO - ☑️ Initial validation passed for resource StructureDefinition-ncpi-patient.json\r\n",
      "2020-06-25 21:56:59,311 - ncpi_fhir_utility.app - INFO - ☑️ Initial validation passed for resource SearchParameter-us-core-ethnicity.json\r\n",
      "2020-06-25 21:56:59,311 - ncpi_fhir_utility.app - INFO - ☑️ Initial validation passed for resource SearchParameter-us-core-race.json\r\n",
      "2020-06-25 21:56:59,311 - ncpi_fhir_utility.app - INFO - ☑️ Initial validation passed for resource CodeSystem-cdcrec.json\r\n",
      "2020-06-25 21:56:59,311 - ncpi_fhir_utility.app - INFO - ☑️ Initial validation passed for resource CodeSystem-species.json\r\n",
      "2020-06-25 21:56:59,312 - ncpi_fhir_utility.app - INFO - ☑️ Initial validation passed for resource ValueSet-detailed-ethnicity.json\r\n",
      "2020-06-25 21:56:59,312 - ncpi_fhir_utility.app - INFO - ☑️ Initial validation passed for resource ValueSet-detailed-race.json\r\n",
      "2020-06-25 21:56:59,312 - ncpi_fhir_utility.app - INFO - ☑️ Initial validation passed for resource ValueSet-omb-ethnicity-category.json\r\n",
      "2020-06-25 21:56:59,312 - ncpi_fhir_utility.app - INFO - ☑️ Initial validation passed for resource ValueSet-omb-race-category.json\r\n",
      "2020-06-25 21:56:59,312 - ncpi_fhir_utility.app - INFO - ☑️ Initial validation passed for resource ValueSet-species.json\r\n",
      "2020-06-25 21:56:59,312 - ncpi_fhir_utility.app - INFO - ☑️ Added IG configuration for Patient-pt-001.json\r\n",
      "2020-06-25 21:56:59,312 - ncpi_fhir_utility.app - INFO - ☑️ Added IG configuration for StructureDefinition-species.json\r\n",
      "2020-06-25 21:56:59,312 - ncpi_fhir_utility.app - INFO - ☑️ Added IG configuration for StructureDefinition-us-core-ethnicity.json\r\n",
      "2020-06-25 21:56:59,312 - ncpi_fhir_utility.app - INFO - ☑️ Added IG configuration for StructureDefinition-us-core-race.json\r\n",
      "2020-06-25 21:56:59,312 - ncpi_fhir_utility.app - INFO - ☑️ Added IG configuration for StructureDefinition-ncpi-patient.json\r\n",
      "2020-06-25 21:56:59,312 - ncpi_fhir_utility.app - INFO - ☑️ Added IG configuration for SearchParameter-us-core-ethnicity.json\r\n",
      "2020-06-25 21:56:59,312 - ncpi_fhir_utility.app - INFO - ☑️ Added IG configuration for SearchParameter-us-core-race.json\r\n",
      "2020-06-25 21:56:59,312 - ncpi_fhir_utility.app - INFO - ☑️ Added IG configuration for CodeSystem-cdcrec.json\r\n",
      "2020-06-25 21:56:59,312 - ncpi_fhir_utility.app - INFO - ☑️ Added IG configuration for CodeSystem-species.json\r\n",
      "2020-06-25 21:56:59,312 - ncpi_fhir_utility.app - INFO - ☑️ Added IG configuration for ValueSet-detailed-ethnicity.json\r\n",
      "2020-06-25 21:56:59,312 - ncpi_fhir_utility.app - INFO - ☑️ Added IG configuration for ValueSet-detailed-race.json\r\n",
      "2020-06-25 21:56:59,312 - ncpi_fhir_utility.app - INFO - ☑️ Added IG configuration for ValueSet-omb-ethnicity-category.json\r\n",
      "2020-06-25 21:56:59,312 - ncpi_fhir_utility.app - INFO - ☑️ Added IG configuration for ValueSet-omb-race-category.json\r\n",
      "2020-06-25 21:56:59,312 - ncpi_fhir_utility.app - INFO - ☑️ Added IG configuration for ValueSet-species.json\r\n",
      "2020-06-25 21:56:59,314 - ncpi_fhir_utility.cli - INFO - ✅ Add site_root/input/resources to IG succeeded!\r\n"
     ]
    }
   ],
   "source": [
    "# Add FHIR model resources to configuration and validate naming conventions\n",
    "!fhirutil add site_root/input/resources"
   ]
  },
  {
   "cell_type": "code",
   "execution_count": 24,
   "metadata": {},
   "outputs": [
    {
     "name": "stdout",
     "output_type": "stream",
     "text": [
      "FHIR IG Publisher Version 1.0.94-SNAPSHOT (Git# 77c06d8ca14c). Built 2020-05-12T11:55:14.985+10:00 (45 days old)\n",
      "Detected Java version: 11.0.2 from /Library/Java/JavaVirtualMachines/jdk-11.0.2.jdk/Contents/Home on x86_64 (64bit). 4096MB available\n",
      "Parameters: -ig site_root/ig.ini -tx n/a\n",
      "dir = /Users/singhn4/Projects/fhir-sci/ncpi-model-forge, path = /Users/singhn4/Projects/fhir-sci/ncpi-model-forge/venv/bin:/Users/singhn4/.gem/ruby/2.6.0/bin:/usr/local/opt/ruby/bin:/Users/singhn4/.dotnet/tools/:/usr/local/bin:/usr/bin:/bin:/usr/sbin:/sbin:/usr/local/share/dotnet:~/.dotnet/tools:/usr/local/opt/fzf/bin\n",
      "Run time = Thursday, June 25, 2020 at 9:57:07 PM Eastern Daylight Time (2020-06-25T21:57:07-04:00)\n",
      "Package Cache: /Users/singhn4/.fhir/packages                                     (00:00.0072)\n",
      "Load Template from fhir.base.template                                            (00:01.0424)\n",
      "\n",
      "onLoad.findSpreadsheets:\n",
      "\n",
      "onLoad.updateIg:\n",
      "     [xslt] Processing /Users/singhn4/Projects/fhir-sci/ncpi-model-forge/site_root/template/onLoad-ig-working.xml to /Users/singhn4/Projects/fhir-sci/ncpi-model-forge/site_root/template/onLoad-ig-updated.xml\n",
      "     [xslt] Loading stylesheet /Users/singhn4/Projects/fhir-sci/ncpi-model-forge/site_root/template/scripts/onLoad.xslt\n",
      "\n",
      "onLoad.extend:\n",
      "\n",
      "onLoad:\n",
      "Root directory: /Users/singhn4/Projects/fhir-sci/ncpi-model-forge/site_root      (00:08.0169)\n",
      "Core Package hl7.fhir.r4.core#4.0.1\n",
      "Terminology Cache is at /Users/singhn4/Projects/fhir-sci/ncpi-model-forge/site_root/input-cache/txcache. 0 files in cache (00:20.0146)\n",
      "WARNING: Running without terminology server - terminology content will likely not publish correctly (00:20.0151)\n",
      "Load Package hl7.fhir.pubpack#0.0.4\n",
      "Load Package hl7.fhir.xver-extensions#0.0.4\n",
      "Initialization complete                                                          (00:20.0856)\n",
      "Load Content                                                                     (00:20.0857)\n",
      "Processing Conformance Resources                                                 (00:21.0548)\n",
      "Terminology server: Check for supported code systems for urn:iso:std:iso:3166    (00:23.0782)\n",
      "==============!! Running without terminology server !! ==============            (00:23.0782)\n",
      "=====================================================================            (00:23.0787)\n",
      "Generating Narratives                                                            (00:25.0148)\n",
      "Validating Resources                                                             (00:25.0148)\n",
      "Processing Provenance Records                                                    (00:25.0227)\n",
      "Generating Outputs in /Users/singhn4/Projects/fhir-sci/ncpi-model-forge/site_root/output (00:25.0227)\n",
      "\n",
      "onGenerate.checkVersions:\n",
      "     [xslt] Processing /Users/singhn4/Projects/fhir-sci/ncpi-model-forge/site_root/template/onGenerate-ig-working.xml to /Users/singhn4/Projects/fhir-sci/ncpi-model-forge/site_root/template/versions.txt\n",
      "     [xslt] Loading stylesheet /Users/singhn4/Projects/fhir-sci/ncpi-model-forge/site_root/template/scripts/onGenerate.getVersions.xslt\n",
      "\n",
      "onGenerate.r5-schemas:\n",
      "      [get] Getting: http://build.fhir.org/fhir-single.xsd\n",
      "      [get] To: /Users/singhn4/Projects/fhir-sci/ncpi-model-forge/site_root/input-cache/schemas/R5/fhir-single.xsd\n",
      "      [get] Not modified - so not downloaded\n",
      "      [get] Getting: http://build.fhir.org/fhir-xhtml.xsd\n",
      "      [get] To: /Users/singhn4/Projects/fhir-sci/ncpi-model-forge/site_root/input-cache/schemas/R5/fhir-xhtml.xsd\n",
      "      [get] Not modified - so not downloaded\n",
      "      [get] Getting: http://build.fhir.org/xml.xsd\n",
      "      [get] To: /Users/singhn4/Projects/fhir-sci/ncpi-model-forge/site_root/input-cache/schemas/R5/xml.xsd\n",
      "      [get] Not modified - so not downloaded\n",
      "      [get] Getting: http://build.fhir.org/xmldsig-core-schema.xsd\n",
      "      [get] To: /Users/singhn4/Projects/fhir-sci/ncpi-model-forge/site_root/input-cache/schemas/R5/xmldsig-core-schema.xsd\n",
      "      [get] Not modified - so not downloaded\n",
      "\n",
      "onGenerate.r4-schemas:\n",
      "      [get] Getting: http://hl7.org/fhir/R4/fhir-single.xsd\n",
      "      [get] To: /Users/singhn4/Projects/fhir-sci/ncpi-model-forge/site_root/input-cache/schemas/R4/fhir-single.xsd\n",
      "      [get] Not modified - so not downloaded\n",
      "      [get] Getting: http://hl7.org/fhir/R4/fhir-xhtml.xsd\n",
      "      [get] To: /Users/singhn4/Projects/fhir-sci/ncpi-model-forge/site_root/input-cache/schemas/R4/fhir-xhtml.xsd\n",
      "      [get] Not modified - so not downloaded\n",
      "      [get] Getting: http://hl7.org/fhir/R4/xml.xsd\n",
      "      [get] To: /Users/singhn4/Projects/fhir-sci/ncpi-model-forge/site_root/input-cache/schemas/R4/xml.xsd\n",
      "      [get] Not modified - so not downloaded\n",
      "      [get] Getting: http://hl7.org/fhir/R4/xmldsig-core-schema.xsd\n",
      "      [get] To: /Users/singhn4/Projects/fhir-sci/ncpi-model-forge/site_root/input-cache/schemas/R4/xmldsig-core-schema.xsd\n",
      "      [get] Not modified - so not downloaded\n",
      "\n",
      "onGenerate.r3-schemas:\n",
      "\n",
      "onGenerate.r2b-schemas:\n",
      "\n",
      "onGenerate.r2-schemas:\n",
      "\n",
      "onGenerate.schemas:\n",
      "\n",
      "onGenerate.data:\n",
      "     [xslt] Processing /Users/singhn4/Projects/fhir-sci/ncpi-model-forge/site_root/template/onGenerate-ig-working.xml to /Users/singhn4/Projects/fhir-sci/ncpi-model-forge/site_root/temp/pages/_data/artifacts.json\n",
      "     [xslt] Loading stylesheet /Users/singhn4/Projects/fhir-sci/ncpi-model-forge/site_root/template/scripts/onGenerate.data.xslt\n",
      "\n",
      "onGenerate.setup:\n",
      "\n",
      "onGenerate.infoFile:\n",
      "     [xslt] Processing /Users/singhn4/Projects/fhir-sci/ncpi-model-forge/site_root/template/onGenerate-ig-working.xml to /Users/singhn4/Projects/fhir-sci/ncpi-model-forge/site_root/temp/pages/_data/info.json\n",
      "     [xslt] Loading stylesheet /Users/singhn4/Projects/fhir-sci/ncpi-model-forge/site_root/template/scripts/onGenerate.genJson.xslt\n",
      "\n",
      "onGenerate.processIncludes:\n",
      "     [copy] Copying 7 files to /Users/singhn4/Projects/fhir-sci/ncpi-model-forge/site_root/temp/pages/_includes\n",
      "\n",
      "onGenerate.processIg:\n",
      "     [xslt] Processing /Users/singhn4/Projects/fhir-sci/ncpi-model-forge/site_root/template/onGenerate-ig-working.xml to /Users/singhn4/Projects/fhir-sci/ncpi-model-forge/site_root/template/onGenerate-ig-working.1.xml\n",
      "     [xslt] Loading stylesheet /Users/singhn4/Projects/fhir-sci/ncpi-model-forge/site_root/template/scripts/onGenerate.group.xslt\n",
      "     [xslt] Processing /Users/singhn4/Projects/fhir-sci/ncpi-model-forge/site_root/template/onGenerate-ig-working.1.xml to /Users/singhn4/Projects/fhir-sci/ncpi-model-forge/site_root/template/onGenerate-ig-updated.xml\n",
      "     [xslt] Loading stylesheet /Users/singhn4/Projects/fhir-sci/ncpi-model-forge/site_root/template/scripts/onGenerate.final.xslt\n",
      "\n",
      "onGenerate.igQa:\n",
      "     [xslt] Processing /Users/singhn4/Projects/fhir-sci/ncpi-model-forge/site_root/template/onGenerate-ig-updated.xml to /Users/singhn4/Projects/fhir-sci/ncpi-model-forge/site_root/template/ongenerate-validation-igqa.json\n",
      "     [xslt] Loading stylesheet /Users/singhn4/Projects/fhir-sci/ncpi-model-forge/site_root/template/scripts/onGenerate.qa.xslt\n",
      "\n",
      "onGenerate.artifactList:\n",
      "     [xslt] Processing /Users/singhn4/Projects/fhir-sci/ncpi-model-forge/site_root/template/onGenerate-ig-updated.xml to /Users/singhn4/Projects/fhir-sci/ncpi-model-forge/site_root/temp/pages/_includes/artifacts.xml\n",
      "     [xslt] Loading stylesheet /Users/singhn4/Projects/fhir-sci/ncpi-model-forge/site_root/template/scripts/createArtifactSummary.xslt\n",
      "\n",
      "onGenerate.extend:\n",
      "\n",
      "onGenerate:\n",
      "Generating Summary Outputs                                                       (00:36.0511)\n",
      "Sending Usage Stats to Server                                                    (00:39.0651)\n",
      "Jekyll: Source: /Users/singhn4/Projects/fhir-sci/ncpi-model-forge/site_root/temp/pages (00:40.0825)\n",
      "Jekyll: Generating...                                                            (00:40.0825)\n",
      "Jekyll: done in 0.76 seconds.                                                    (00:41.0585)\n",
      "Installing ncpi#dev to the package cache\n",
      "  Fetching:\n",
      "  Installing:  done.\n",
      "Checking Output HTML                                                             (00:42.0547)\n",
      "found 569 files                                                                  (00:42.0553)\n",
      "  ... 569 html files, 0 pages invalid xhtml (0%)                                 (00:48.0643)\n",
      "  ... 57674 links, 0 broken links (0%)                                           (00:48.0643)\n",
      "Build final .zip                                                                 (00:48.0643)\n"
     ]
    },
    {
     "name": "stdout",
     "output_type": "stream",
     "text": [
      "Final .zip built                                                                 (00:49.0788)\n",
      "Finished. 00:28.0239. Validation output in /Users/singhn4/Projects/fhir-sci/ncpi-model-forge/site_root/output/qa.html\n",
      "Errors: 0  Warnings: 6  Info: 9 (00:50.0183)\n",
      "Done                                                                             (00:50.0184)\n"
     ]
    }
   ],
   "source": [
    "# Run the HL7 validation tool\n",
    "!java -jar org.hl7.fhir.publisher.jar -ig site_root/ig.ini -tx n/a"
   ]
  },
  {
   "cell_type": "markdown",
   "metadata": {},
   "source": [
    "### View the Test Results"
   ]
  },
  {
   "cell_type": "markdown",
   "metadata": {},
   "source": [
    "Whether you use Method 1 or Method 2 to run your tests, you can view detailed validation results at `./site_root/output/qa.html`"
   ]
  },
  {
   "cell_type": "markdown",
   "metadata": {},
   "source": [
    "### View the ImplementationGuide"
   ]
  },
  {
   "cell_type": "markdown",
   "metadata": {},
   "source": [
    "The documentation site for your FHIR model get's written to the `site_root/output` directory. You can view the site by viewing `site_root/output/index.html` in your browser."
   ]
  },
  {
   "cell_type": "markdown",
   "metadata": {
    "heading_collapsed": true
   },
   "source": [
    "## Continuous Integration"
   ]
  },
  {
   "cell_type": "markdown",
   "metadata": {
    "hidden": true
   },
   "source": [
    "Hopefully, you've been commiting your code as you work through this guide. Now it's time to push your feature branch up to remote `ncpi-model-forge` repository on GitHub and make a Pull Request to request code reviews from teammates. When you push your code to GitHub, the CI pipeline will also run the same tests you ran locally.\n",
    "\n",
    "Upon PR approval and a successful run of the CI pipeline, you can merge your PR to get your feature branch merged into the `master` branch.\n",
    "\n",
    "To push your code do the following in your terminal: \n",
    "\n",
    "```shell\n",
    "git push -u add-patient-species\n",
    "```\n",
    "\n",
    "Then go to GitHub and create a new Pull Request to merge `add-patient-species` branch into the `master` branch."
   ]
  },
  {
   "cell_type": "markdown",
   "metadata": {
    "heading_collapsed": true
   },
   "source": [
    "## Release and Deploy the Model\n",
    "\n",
    "🚧 This section is coming soon\n",
    "\n",
    "- Create release for the model\n",
    "- Deploy the model to the production NCPI FHIR server"
   ]
  },
  {
   "cell_type": "markdown",
   "metadata": {},
   "source": [
    "# Tutorial: FHIR Ingest Development"
   ]
  },
  {
   "cell_type": "markdown",
   "metadata": {},
   "source": [
    "This tutorial covers the SDLC for developing FHIR ingestion code using the Kids First Data Ingest Library's Ingest Plugin framework.\n",
    "\n",
    "You will learn how to develop and test a FHIR Ingest Plugin for your model. This is a Python module that transforms your tabular source data into FHIR resources that conform to your model and then loads them into a FHIR server.\n",
    "\n",
    "**🚧 This tutorial is under construction and will be completed soon** "
   ]
  },
  {
   "cell_type": "markdown",
   "metadata": {
    "heading_collapsed": true
   },
   "source": [
    "## Setup"
   ]
  },
  {
   "cell_type": "markdown",
   "metadata": {
    "hidden": true
   },
   "source": [
    "Setup your local machine to run the FHIR tech stack: \n",
    "\n",
    "- FHIR server (NCPI currently uses Smile CDR)\n",
    "- PostgreSQL database \n",
    "- FHIR Data Dashboard web app (Developed by NCPI)\n",
    "\n",
    "You will deploy these services/apps as a [Docker Compose](https://docs.docker.com/compose/) stack\n",
    "\n",
    "### Installation\n",
    "1. Install [Docker CE](https://docs.docker.com/install/)\n",
    "2. Clone the NCPI FHIR service repo somewhere outside `ncpi-model-forge`\n",
    "\n",
    "    ```shell\n",
    "    git clone git@github.com:ncpi-fhir/ncpi-api-fhir-service.git\n",
    "    ```\n",
    "\n",
    "3. Follow the `Develop` instructions in the `ncpi-api-fhir-service` [README](https://github.com/ncpi-fhir/ncpi-api-fhir-service/blob/master/README.md#development)\n",
    "\n",
    "\n",
    "### Run the Stack\n",
    "\n",
    "To run the FHIR Docker Compose stack do the following in your shell:\n",
    "\n",
    "```\n",
    "cd ncpi-api-fhir-service\n",
    "./scripts/run_local_server.sh\n",
    "```\n",
    "\n",
    "The **first time you run the server it will take ~10 minutes** since it must load the FHIR base model and initialize the database with tables and indices. \n",
    "\n",
    "#### Turn off Loading of Base Model\n",
    "💡 After the first run, you can set the variable `SEED_CONF_RESOURCES=false` in the `.env` file that was created by the `./scripts/run_local_server.sh`. This will disable the server from creating the FHIR base model again.\n",
    "\n",
    "### Monitor Logs\n",
    "You can monitor the Docker Compose stack logs while the services are coming up if you'd like:\n",
    "\n",
    "```shell\n",
    "docker-compose logs -f\n",
    "```\n",
    "\n",
    "### Verify Successful Deploy\n",
    "\n",
    "You will know when the FHIR stack has successfully deployed, when the log from the `run_local_server.sh` script prints out:\n",
    "\n",
    "```shell\n",
    "\"✅ Finished deploying!\"\n",
    "```\n",
    "\n",
    "1. Verify your FHIR server is up by pinging the health check endpoint. You should get a status code of 200 and a message that says `OPERATIONAL`.\n",
    "\n",
    "```shell\n",
    "curl http://localhost:8000/endpoint-health\n",
    "```\n",
    "\n",
    "2. Verify your FHIR Data Dashboard is up\n",
    "\n",
    "   Go to `http://localhost:3000`. You should see the NCPI dashboard's login screen\n",
    "   \n",
    "### Admin User\n",
    "\n",
    "The FHIR stack deploys with an admin user that has superuser privileges. You can use this to login to the dashboard, or send HTTP requests to the server using some other client. \n",
    "\n",
    "Credentials for this user are:\n",
    "```\n",
    "Username: admin\n",
    "Password: password\n",
    "```"
   ]
  },
  {
   "cell_type": "markdown",
   "metadata": {},
   "source": [
    "## Experiment "
   ]
  },
  {
   "cell_type": "markdown",
   "metadata": {},
   "source": [
    "Ok, now that all of your services/apps are up, it's time experiment with the server by deploying our model and loading some data. Here is what we will do:\n",
    "\n",
    "1. Deploy the NCPI Project Forge model to your server\n",
    "1. Load NCPI Patients into your server\n",
    "2. Use the FHIR data dashboard to browse data in your server\n",
    "\n",
    "### Deploy the Model\n",
    "\n",
    "You can run the `ncpi-api-fhir-service/scripts/load_model.sh` to do this:\n",
    "\n",
    "```shell\n",
    "cd ncpi-api-fhir-service\n",
    "./scripts/load_model.sh add-patient-species\n",
    "```\n",
    "\n",
    "This script will clone the `ncpi-model-forge` and checkout your `add-patient-species` branch. Then it will use the `fhirutil publish` command to push your model's resources to the FHIR server\n",
    "\n",
    "### Create NCPI Patients\n",
    "\n",
    "To create NCPI Patients means to create FHIR Patient resources which conform to our NCPI Patient profile. This is fairly easy because our profile currently only adds additional attributes (race, ethnicity, species) to the Patient. \n",
    "\n",
    "It doesn't restrict any attributes on the Patient. This means we could generate synthetic Patient resources and load them into our server or we could populate our new attribtutes on Patient and bind our Patient to the NCPI Patient profile before we load them."
   ]
  },
  {
   "cell_type": "code",
   "execution_count": 22,
   "metadata": {},
   "outputs": [
    {
     "name": "stdout",
     "output_type": "stream",
     "text": [
      "total 80\r\n",
      "-rw-r--r--  1 singhn4  1768498755  1337 Jun 26 12:26 patient-0.json\r\n",
      "-rw-r--r--  1 singhn4  1768498755  1335 Jun 26 12:26 patient-1.json\r\n",
      "-rw-r--r--  1 singhn4  1768498755  1337 Jun 26 12:26 patient-2.json\r\n",
      "-rw-r--r--  1 singhn4  1768498755  1337 Jun 26 12:26 patient-3.json\r\n",
      "-rw-r--r--  1 singhn4  1768498755  1335 Jun 26 12:26 patient-4.json\r\n",
      "-rw-r--r--  1 singhn4  1768498755  1335 Jun 26 12:26 patient-5.json\r\n",
      "-rw-r--r--  1 singhn4  1768498755  1337 Jun 26 12:26 patient-6.json\r\n",
      "-rw-r--r--  1 singhn4  1768498755  1335 Jun 26 12:27 patient-7.json\r\n",
      "-rw-r--r--  1 singhn4  1768498755  1337 Jun 26 12:27 patient-8.json\r\n",
      "-rw-r--r--  1 singhn4  1768498755  1337 Jun 26 12:27 patient-9.json\r\n"
     ]
    }
   ],
   "source": [
    "# List the ingest data files\n",
    "!ls -l data/ingest"
   ]
  },
  {
   "cell_type": "markdown",
   "metadata": {},
   "source": [
    "Let's take a look at one of the example Patients in the `data/ingest` directory:"
   ]
  },
  {
   "cell_type": "code",
   "execution_count": 24,
   "metadata": {},
   "outputs": [
    {
     "name": "stdout",
     "output_type": "stream",
     "text": [
      "{'extension': [{'extension': [{'url': 'ombCategory',\n",
      "                               'valueCoding': {'code': '2186-5',\n",
      "                                               'display': 'Not Hispanic or '\n",
      "                                                          'Latino',\n",
      "                                               'system': 'urn:oid:2.16.840.1.113883.6.238'}},\n",
      "                              {'url': 'text',\n",
      "                               'valueString': 'Not Hispanic or Latino'}],\n",
      "                'url': 'http://hl7.org/fhir/us/core/StructureDefinition/us-core-ethnicity'},\n",
      "               {'extension': [{'url': 'ombCategory',\n",
      "                               'valueCoding': {'code': '2106-3',\n",
      "                                               'display': 'White',\n",
      "                                               'system': 'urn:oid:2.16.840.1.113883.6.238'}},\n",
      "                              {'url': 'text', 'valueString': 'White'}],\n",
      "                'url': 'http://hl7.org/fhir/us/core/StructureDefinition/us-core-race'}],\n",
      " 'gender': 'female',\n",
      " 'id': 'patient-0',\n",
      " 'identifier': [{'system': 'https://kf-api-dataservice.kidsfirstdrc.org/participants?study_id=SD_ME0WME0W&external_id=',\n",
      "                 'value': 'P_0001'},\n",
      "                {'system': 'urn:kids-first:unique-string',\n",
      "                 'value': 'Patient|SD_ME0WME0W|P_0001'}],\n",
      " 'meta': {'profile': ['http://fhir.ncpi-project-forge.io/StructureDefinition/ncpi-patient']},\n",
      " 'resourceType': 'Patient'}\n"
     ]
    }
   ],
   "source": [
    "INGEST_DATA_DIR = os.path.join(DATA_DIR, 'ingest')\n",
    "with open(os.path.join(INGEST_DATA_DIR, 'patient-0.json')) as json_file:\n",
    "    data = json.load(json_file)\n",
    "pprint(data)"
   ]
  },
  {
   "cell_type": "markdown",
   "metadata": {},
   "source": [
    "Looks like it already has the `race` and `ethnicity` extensions. Let's add our new species extension to all of the patients and set the value to human:"
   ]
  },
  {
   "cell_type": "code",
   "execution_count": 38,
   "metadata": {},
   "outputs": [],
   "source": [
    "submit_data_dir = os.path.join(INGEST_DATA_DIR, 'submitted')\n",
    "if not os.path.isdir(submit_data_dir):\n",
    "    os.mkdir(submit_data_dir)\n",
    "    \n",
    "species = {\n",
    "      \"url\": \"http://fhir.ncpi-project-forge.io/StructureDefinition/species\",\n",
    "      \"valueCodeableConcept\": {\n",
    "        \"coding\": [\n",
    "          {\n",
    "            \"system\": \"http://fhir.ncpi-project-forge.io/CodeSystem/species\",\n",
    "            \"code\": \"337915000\",\n",
    "            \"display\": \"Homo sapiens\"\n",
    "          }\n",
    "        ],\n",
    "        \"text\": \"Homo Sapiens\"\n",
    "      }\n",
    "}\n",
    "for fn in os.listdir(INGEST_DATA_DIR):\n",
    "    fp = os.path.join(INGEST_DATA_DIR, fn)\n",
    "    if os.path.isdir(fp):\n",
    "        continue\n",
    "    with open(fp) as json_file:\n",
    "        patient = json.load(json_file)\n",
    "    patient['extension'].append(species)\n",
    "    with open(os.path.join(submit_data_dir, fn), 'w') as json_file:\n",
    "        json.dump(patient, json_file, indent=2)"
   ]
  },
  {
   "cell_type": "markdown",
   "metadata": {},
   "source": [
    "### Load NCPI Patients"
   ]
  },
  {
   "cell_type": "code",
   "execution_count": 39,
   "metadata": {},
   "outputs": [
    {
     "name": "stdout",
     "output_type": "stream",
     "text": [
      "2020-06-26 12:51:52,516 - ncpi_fhir_utility.app - INFO - Begin publishing resources in data/ingest/submitted to http://localhost:8000\n",
      "2020-06-26 12:51:52,516 - ncpi_fhir_utility.loader - DEBUG - Reading resource file: /Users/singhn4/Projects/fhir-sci/ncpi-model-forge/data/ingest/submitted/patient-0.json\n",
      "2020-06-26 12:51:52,516 - ncpi_fhir_utility.loader - DEBUG - Reading resource file: /Users/singhn4/Projects/fhir-sci/ncpi-model-forge/data/ingest/submitted/patient-1.json\n",
      "2020-06-26 12:51:52,516 - ncpi_fhir_utility.loader - DEBUG - Reading resource file: /Users/singhn4/Projects/fhir-sci/ncpi-model-forge/data/ingest/submitted/patient-2.json\n",
      "2020-06-26 12:51:52,517 - ncpi_fhir_utility.loader - DEBUG - Reading resource file: /Users/singhn4/Projects/fhir-sci/ncpi-model-forge/data/ingest/submitted/patient-3.json\n",
      "2020-06-26 12:51:52,517 - ncpi_fhir_utility.loader - DEBUG - Reading resource file: /Users/singhn4/Projects/fhir-sci/ncpi-model-forge/data/ingest/submitted/patient-4.json\n",
      "2020-06-26 12:51:52,517 - ncpi_fhir_utility.loader - DEBUG - Reading resource file: /Users/singhn4/Projects/fhir-sci/ncpi-model-forge/data/ingest/submitted/patient-5.json\n",
      "2020-06-26 12:51:52,517 - ncpi_fhir_utility.loader - DEBUG - Reading resource file: /Users/singhn4/Projects/fhir-sci/ncpi-model-forge/data/ingest/submitted/patient-6.json\n",
      "2020-06-26 12:51:52,517 - ncpi_fhir_utility.loader - DEBUG - Reading resource file: /Users/singhn4/Projects/fhir-sci/ncpi-model-forge/data/ingest/submitted/patient-7.json\n",
      "2020-06-26 12:51:52,517 - ncpi_fhir_utility.loader - DEBUG - Reading resource file: /Users/singhn4/Projects/fhir-sci/ncpi-model-forge/data/ingest/submitted/patient-8.json\n",
      "2020-06-26 12:51:52,518 - ncpi_fhir_utility.loader - DEBUG - Reading resource file: /Users/singhn4/Projects/fhir-sci/ncpi-model-forge/data/ingest/submitted/patient-9.json\n",
      "2020-06-26 12:51:52,926 - FhirApiClient - INFO - DELETE http://localhost:8000/Patient/patient-0 succeeded. \n",
      "2020-06-26 12:51:52,978 - FhirApiClient - INFO - DELETE http://localhost:8000/Patient/patient-1 succeeded. \n",
      "2020-06-26 12:51:53,035 - FhirApiClient - INFO - DELETE http://localhost:8000/Patient/patient-2 succeeded. \n",
      "2020-06-26 12:51:53,113 - FhirApiClient - INFO - DELETE http://localhost:8000/Patient/patient-3 succeeded. \n",
      "2020-06-26 12:51:53,143 - FhirApiClient - INFO - DELETE http://localhost:8000/Patient/patient-4 succeeded. \n",
      "2020-06-26 12:51:53,191 - FhirApiClient - INFO - DELETE http://localhost:8000/Patient/patient-5 succeeded. \n",
      "2020-06-26 12:51:53,270 - FhirApiClient - INFO - DELETE http://localhost:8000/Patient/patient-6 succeeded. \n",
      "2020-06-26 12:51:53,306 - FhirApiClient - INFO - DELETE http://localhost:8000/Patient/patient-7 succeeded. \n",
      "2020-06-26 12:51:53,351 - FhirApiClient - INFO - DELETE http://localhost:8000/Patient/patient-8 succeeded. \n",
      "2020-06-26 12:51:53,405 - FhirApiClient - INFO - DELETE http://localhost:8000/Patient/patient-9 succeeded. \n",
      "2020-06-26 12:51:53,637 - FhirApiClient - INFO - PUT http://localhost:8000/Patient/patient-0 succeeded. \n",
      "2020-06-26 12:51:53,753 - FhirApiClient - INFO - PUT http://localhost:8000/Patient/patient-1 succeeded. \n",
      "2020-06-26 12:51:53,880 - FhirApiClient - INFO - PUT http://localhost:8000/Patient/patient-2 succeeded. \n",
      "2020-06-26 12:51:54,029 - FhirApiClient - INFO - PUT http://localhost:8000/Patient/patient-3 succeeded. \n",
      "2020-06-26 12:51:54,207 - FhirApiClient - INFO - PUT http://localhost:8000/Patient/patient-4 succeeded. \n",
      "2020-06-26 12:51:54,400 - FhirApiClient - INFO - PUT http://localhost:8000/Patient/patient-5 succeeded. \n",
      "2020-06-26 12:51:54,594 - FhirApiClient - INFO - PUT http://localhost:8000/Patient/patient-6 succeeded. \n",
      "2020-06-26 12:51:54,709 - FhirApiClient - INFO - PUT http://localhost:8000/Patient/patient-7 succeeded. \n",
      "2020-06-26 12:51:54,818 - FhirApiClient - INFO - PUT http://localhost:8000/Patient/patient-8 succeeded. \n",
      "2020-06-26 12:51:54,914 - FhirApiClient - INFO - PUT http://localhost:8000/Patient/patient-9 succeeded. \n",
      "2020-06-26 12:51:54,916 - ncpi_fhir_utility.cli - INFO - ✅ Publish succeeded!\n"
     ]
    }
   ],
   "source": [
    "!fhirutil publish data/ingest/submitted --base_url=\"http://localhost:8000\" --username=\"admin\" --password=\"password\""
   ]
  },
  {
   "cell_type": "markdown",
   "metadata": {},
   "source": [
    "### Browse FHIR Resources\n",
    "\n",
    "1. Launch the dashboard in the browser by going to `http://localhost:3000`\n",
    "2. Login with the admin user credentials\n",
    "3. Search for the resource type: ncpi-patient and click on the card\n",
    "4. Start browsing NCPI Patients!"
   ]
  },
  {
   "cell_type": "markdown",
   "metadata": {
    "heading_collapsed": true
   },
   "source": [
    "## Develop FHIR Ingest Plugin\n",
    "\n",
    "🚧 This section is coming soon"
   ]
  },
  {
   "cell_type": "markdown",
   "metadata": {},
   "source": [
    "## Test FHIR Ingest Plugin\n",
    "\n",
    "🚧 This section is coming soon"
   ]
  },
  {
   "cell_type": "markdown",
   "metadata": {},
   "source": [
    "# NCPI Infrastructure\n",
    "\n",
    "🚧 This section is coming soon."
   ]
  },
  {
   "cell_type": "markdown",
   "metadata": {},
   "source": [
    "## FHIR Servers\n",
    "\n",
    "🚧 Please visit the [NCPI FHIR Service](https://github.com/ncpi-fhir/ncpi-api-fhir-service) repo\n",
    "\n",
    "## FHIR Data Dashboard"
   ]
  },
  {
   "cell_type": "code",
   "execution_count": null,
   "metadata": {},
   "outputs": [],
   "source": []
  }
 ],
 "metadata": {
  "kernelspec": {
   "display_name": "Python 3",
   "language": "python",
   "name": "python3"
  },
  "language_info": {
   "codemirror_mode": {
    "name": "ipython",
    "version": 3
   },
   "file_extension": ".py",
   "mimetype": "text/x-python",
   "name": "python",
   "nbconvert_exporter": "python",
   "pygments_lexer": "ipython3",
   "version": "3.7.7"
  },
  "toc": {
   "base_numbering": 1,
   "nav_menu": {},
   "number_sections": true,
   "sideBar": true,
   "skip_h1_title": false,
   "title_cell": "Table of Contents",
   "title_sidebar": "Contents",
   "toc_cell": false,
   "toc_position": {},
   "toc_section_display": true,
   "toc_window_display": false
  }
 },
 "nbformat": 4,
 "nbformat_minor": 2
}
